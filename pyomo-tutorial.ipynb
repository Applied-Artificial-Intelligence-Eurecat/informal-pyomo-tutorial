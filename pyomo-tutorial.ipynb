{
 "cells": [
  {
   "cell_type": "code",
   "execution_count": 1,
   "id": "f193ec84-bead-4a87-8ad3-ce721c65ac14",
   "metadata": {
    "editable": true,
    "slideshow": {
     "slide_type": "skip"
    },
    "tags": []
   },
   "outputs": [],
   "source": [
    "import numpy as np\n",
    "import pandas as pd"
   ]
  },
  {
   "cell_type": "markdown",
   "id": "79c938ba-4908-4f4e-ad3e-f2e055a5e301",
   "metadata": {
    "editable": true,
    "slideshow": {
     "slide_type": "slide"
    },
    "tags": []
   },
   "source": [
    "<div>\n",
    "<img src=\"images/eurecat-logo.png\" width=\"200\"/>\n",
    "</div>\n",
    "\n",
    "# An informal Pyomo tutorial\n",
    "\n",
    "### **_Biweekly_ · AAI Eurecat** \n",
    "June 4, 2024 \\\n",
    "_Giulia Zarpellon_"
   ]
  },
  {
   "cell_type": "markdown",
   "id": "30c1d4ca-a5dd-46fd-9380-097b064fd03b",
   "metadata": {
    "editable": true,
    "slideshow": {
     "slide_type": "slide"
    },
    "tags": []
   },
   "source": [
    "## 1. Optimization habits"
   ]
  },
  {
   "cell_type": "markdown",
   "id": "b4793483-1270-47a4-b760-62d093acfc75",
   "metadata": {
    "editable": true,
    "slideshow": {
     "slide_type": "fragment"
    },
    "tags": []
   },
   "source": [
    "**How do you do your optimization?**\n",
    "\n",
    "Modeling language libraries, commercial software, solver-specific interfaces, ...\n",
    "\n",
    "<div>\n",
    "<img src=\"images/opt-zoo.png\" width=\"750\"/>\n",
    "</div>"
   ]
  },
  {
   "cell_type": "markdown",
   "id": "0fcf2e0a",
   "metadata": {
    "editable": true,
    "slideshow": {
     "slide_type": "subslide"
    },
    "tags": []
   },
   "source": [
    "**How did I do my optimization?**\n",
    "\n",
    "- Work directly with solvers (CPLEX, SCIP Optimization Suite) and modify the solution process quite heavily via _advanced callbacks_\n",
    "- Often testing on benchmark optimization models -- _no concept of owning the \"data process\"_"
   ]
  },
  {
   "cell_type": "markdown",
   "id": "d55aec1d-9f84-422e-80c6-dd7063cfa5b2",
   "metadata": {
    "editable": true,
    "slideshow": {
     "slide_type": "fragment"
    },
    "tags": []
   },
   "source": [
    "**But outside academia things change:**\n",
    "- More focus on proof of concepts and experimentation, prototypes and iterations: _we test more than one model_\n",
    "- The data process is important: _sometimes we own it, sometimes not_\n",
    "- We probably do not modify solvers settings too much... and first we need to figure out _which_ solver we want/can use"
   ]
  },
  {
   "cell_type": "markdown",
   "id": "af7ed189-3683-40db-b58e-89d4738534b9",
   "metadata": {
    "editable": true,
    "slideshow": {
     "slide_type": "slide"
    },
    "tags": []
   },
   "source": [
    "## 2. What is Pyomo?"
   ]
  },
  {
   "cell_type": "markdown",
   "id": "2f5bd98d",
   "metadata": {
    "editable": true,
    "slideshow": {
     "slide_type": "fragment"
    },
    "tags": []
   },
   "source": [
    "<div>\n",
    "<img src=\"images/pyomo-logo.webp\" width=\"250\"/>\n",
    "</div>\n",
    "\n",
    "- Optimization modeling language\n",
    "- Python-based\n",
    "- Open-source\n",
    "- Customizable\n",
    "- Solver-agnostic\n",
    "\n",
    "&#8594; [Pyomo documentation](https://pyomo.readthedocs.io/en/stable/index.html)\n",
    "\n",
    "**What Pyomo is _NOT_...**\n",
    "\n",
    "- An optimization solver: _Pyomo is an interface to solvers_"
   ]
  },
  {
   "cell_type": "markdown",
   "id": "53ab0268-db05-47e8-a578-f463ad33450d",
   "metadata": {
    "editable": true,
    "slideshow": {
     "slide_type": "slide"
    },
    "tags": []
   },
   "source": [
    "## 3. Why / when using Pyomo?\n",
    "\n",
    "- You want to quickly start building an optimization model in iterations\n",
    "- You have to test different model formulations\n",
    "- Solver choice is open / undecided\n",
    "- No need for advanced callbacks\n",
    "- Integration with Python is important (e.g., for visualizations)"
   ]
  },
  {
   "cell_type": "markdown",
   "id": "e1811aa3",
   "metadata": {
    "editable": true,
    "slideshow": {
     "slide_type": "fragment"
    },
    "tags": []
   },
   "source": [
    "_All these applied for the **DiOptiBa** project, so we went for it!_"
   ]
  },
  {
   "cell_type": "markdown",
   "id": "688bb47c",
   "metadata": {
    "editable": true,
    "slideshow": {
     "slide_type": "subslide"
    },
    "tags": []
   },
   "source": [
    "**Available solvers / software interfaces**: \n",
    "- _(commercial)_ CPLEX, Gurobi, Express, GAMS, AMPL, Mosek\n",
    "- _(CoinOR)_ IPopt, CBC\n",
    "- _(others)_ [HiGHS](https://highs.dev/), MAiNGO, BARON, GLPK, CONOPT, Scipy, ...\n",
    "\n",
    "Interfaces can be specialized or generic (read an AMPL `.nl` file and write a `.sol` file). \n",
    "\n",
    "And many more! Some are available through the [NEOS server](https://neos-server.org/neos/) (asynchronous, does not require a solver locally installed)"
   ]
  },
  {
   "cell_type": "markdown",
   "id": "965eaf8e",
   "metadata": {
    "editable": true,
    "slideshow": {
     "slide_type": "fragment"
    },
    "tags": []
   },
   "source": [
    "Installation usually runs smoothly:\n",
    "\n",
    "````\n",
    "pip install 'pyomo[optional]'     # install pyomo with its conditional dependencies to get interface with HiGHS\n",
    "pip install highspy               # install HiGHS (or another solver of choice)\n",
    "````"
   ]
  },
  {
   "cell_type": "markdown",
   "id": "ca01a378-c66e-44f8-a1c9-dbc085ceb769",
   "metadata": {
    "editable": true,
    "slideshow": {
     "slide_type": "slide"
    },
    "tags": []
   },
   "source": [
    "## 4. Pyomo 101\n",
    "\n",
    "### Model components and process\n",
    "\n",
    "Object-oriented design of models, using as components\n",
    "\n",
    "- ``Set`` · data that needs to be organized in a set, e.g., indices\n",
    "- ``Param`` · parameter data that will be specified as model input\n",
    "- ``Var`` · model decision variables\n",
    "- ``Constraint`` · expressions that enforce restrictions in the solution space\n",
    "- ``Objective`` · expressions that should be maximized or minimized"
   ]
  },
  {
   "cell_type": "markdown",
   "id": "e62aeaef",
   "metadata": {
    "editable": true,
    "slideshow": {
     "slide_type": "fragment"
    },
    "tags": []
   },
   "source": [
    "Typical steps when modeling:\n",
    "\n",
    "1. Define the model by declaring its components\n",
    "2. Instantiate the model with data\n",
    "3. Apply solver (i.e., run the optimization algorithm)\n",
    "4. Interrogate solver results"
   ]
  },
  {
   "cell_type": "markdown",
   "id": "f51f9bab-f4f2-4627-a4a0-5cb36e76437c",
   "metadata": {
    "editable": true,
    "slideshow": {
     "slide_type": "subslide"
    },
    "tags": []
   },
   "source": [
    "### Concrete vs. abstract models\n",
    "\n",
    "Often the biggest distinction made when discussing Pyomo implementations\n",
    "\n",
    "&#8594; `ConcreteModel` : _\"data first\"_, data is specified at the time of model definition\n",
    "\n",
    "&#8594; `AbstractModel` : _\"model first\"_, data will be supplied later, when the model is solved\n",
    "\n",
    "Which one should you choose?"
   ]
  },
  {
   "cell_type": "markdown",
   "id": "ec089fbe",
   "metadata": {
    "editable": true,
    "slideshow": {
     "slide_type": "fragment"
    },
    "tags": []
   },
   "source": [
    "**The truth is...**\n",
    "\n",
    "- there is no \"better\" option, even though in some community forums `ConcreteModel` seems the preferred way to go\n",
    "- it depends on the use-case and data specification\n",
    "- it depends on your preferences and approach\n",
    "\n",
    "**... there's a spectrum of options available for how to specify models**"
   ]
  },
  {
   "cell_type": "markdown",
   "id": "7c4bdcfc-8b65-48f8-8ca6-4fe2129da61b",
   "metadata": {
    "editable": true,
    "slideshow": {
     "slide_type": "slide"
    },
    "tags": []
   },
   "source": [
    "## 5. Examples"
   ]
  },
  {
   "cell_type": "markdown",
   "id": "b9396a8d-9728-4398-a7bc-cf25be316c9b",
   "metadata": {
    "editable": true,
    "slideshow": {
     "slide_type": "fragment"
    },
    "tags": []
   },
   "source": [
    "### Production mix model\n",
    "\n",
    "You own a home-based bakery gig where you make only two types of items:\n",
    "\n",
    "<div>\n",
    "<img src=\"images/loaf-tray.png\" width=\"600\"/>\n",
    "</div>"
   ]
  },
  {
   "cell_type": "markdown",
   "id": "10d26be8-76e1-478e-bd48-da5c53a23cdc",
   "metadata": {
    "editable": true,
    "slideshow": {
     "slide_type": "subslide"
    },
    "tags": []
   },
   "source": [
    "**Problem specification and data**\n",
    "\n",
    "- You need to decide the number of units of bread and pizza to produce each week\n",
    "- Production is constrained by\n",
    "    - How many hours of work you have to put in\n",
    "    - How much total flour you have available\n",
    "    - The sale statistics, which tell you that production of pizza trays should be less than or equal to twice the production of bread\n",
    "- Your objective is to maximize gross profit margin per week"
   ]
  },
  {
   "cell_type": "markdown",
   "id": "cb74ad1a-885e-43f6-bc31-fa41408dacbc",
   "metadata": {
    "editable": true,
    "slideshow": {
     "slide_type": "fragment"
    },
    "tags": []
   },
   "source": [
    "Note: _This data is * not * realistic_ \n",
    "\n",
    "|  | Bread loaf | Pizza tray |\n",
    "| -------- | ------- | ------- |\n",
    "| Time | 8.5h | 4h |\n",
    "| Flour | 1.8kg | 3kg |\n",
    "| Profit | 8€ | 20€ |"
   ]
  },
  {
   "cell_type": "code",
   "execution_count": 2,
   "id": "6f6f7298",
   "metadata": {
    "editable": true,
    "slideshow": {
     "slide_type": "fragment"
    },
    "tags": []
   },
   "outputs": [],
   "source": [
    "import pyomo.environ as pyo\n",
    "from pyomo.contrib import appsi"
   ]
  },
  {
   "cell_type": "markdown",
   "id": "b937f4bc-d435-4a06-8c19-b11480e00587",
   "metadata": {
    "editable": true,
    "slideshow": {
     "slide_type": "slide"
    },
    "tags": []
   },
   "source": [
    "### Model 1 · Concrete model with explicit data\n",
    "\n",
    "a.k.a. when you just need a quick way to test a small model"
   ]
  },
  {
   "cell_type": "code",
   "execution_count": 3,
   "id": "8285d087",
   "metadata": {
    "editable": true,
    "slideshow": {
     "slide_type": "fragment"
    },
    "tags": []
   },
   "outputs": [],
   "source": [
    "model1 = pyo.ConcreteModel(name='bread&pizza_model1')\n",
    "\n",
    "# define variables\n",
    "model1.loafs = pyo.Var(domain=pyo.NonNegativeIntegers)\n",
    "model1.trays = pyo.Var(domain=pyo.NonNegativeIntegers)\n",
    "\n",
    "# define constraints\n",
    "model1.time_constraint = pyo.Constraint(\n",
    "    expr=8.5 * model1.loafs + 4 * model1.trays <= 120)\n",
    "model1.flour_constraint = pyo.Constraint(\n",
    "    expr=1.8 * model1.loafs + 3.0 * model1.trays <= 50)\n",
    "model1.sales_constraint = pyo.Constraint(\n",
    "    expr=-2.00 * model1.loafs + 1.00 * model1.trays <= 0)\n",
    "\n",
    "# define objective\n",
    "model1.profit_obj = pyo.Objective(\n",
    "    expr=8.00 * model1.loafs + 20.00 * model1.trays, sense=pyo.maximize)"
   ]
  },
  {
   "cell_type": "markdown",
   "id": "c261ca34-7f30-4199-a2c0-94dc9ba65f21",
   "metadata": {
    "editable": true,
    "slideshow": {
     "slide_type": "fragment"
    },
    "tags": []
   },
   "source": [
    "- **Data is hard-coded** into the model definition\n",
    "- Very direct approach, but very rigid (one by one definition of variables)\n",
    "- May be OK for very small models, but not for bigger ones"
   ]
  },
  {
   "cell_type": "code",
   "execution_count": 4,
   "id": "e61dc470-d50a-4786-ac75-f759f1f09bef",
   "metadata": {
    "editable": true,
    "slideshow": {
     "slide_type": "subslide"
    },
    "tags": []
   },
   "outputs": [
    {
     "name": "stdout",
     "output_type": "stream",
     "text": [
      "bread&pizza_model1\n",
      "Status: TerminationCondition.optimal\n",
      "\n",
      "Total profit: 296.0€\n",
      "# loafs: 7.0\n",
      "# trays: 12.0\n"
     ]
    }
   ],
   "source": [
    "# solve\n",
    "opt = appsi.solvers.Highs()  # call optimizer of choice\n",
    "results = opt.solve(model1)  # optimize and store results\n",
    "\n",
    "# output some results\n",
    "print(f\"{model1.name}\")\n",
    "print(f\"Status: {results.termination_condition}\\n\")\n",
    "print(f\"Total profit: {np.round(model1.profit_obj(), 2)}€\")\n",
    "print(f\"# loafs: {model1.loafs()}\")\n",
    "print(f\"# trays: {model1.trays()}\")"
   ]
  },
  {
   "cell_type": "markdown",
   "id": "42efbcae-be6e-4dbd-8811-b3c4c1f37009",
   "metadata": {
    "editable": true,
    "slideshow": {
     "slide_type": "slide"
    },
    "tags": []
   },
   "source": [
    "### Model 2 · Concrete model, separate data\n",
    "\n",
    "- Use **Python data-structures** to specify data and pass it to the Pyomo model\n",
    "- In this example we use a dictionary, but data can come in other forms (DataFrames, json, ...)"
   ]
  },
  {
   "cell_type": "code",
   "execution_count": 5,
   "id": "d23a60e2-47ba-46f0-88e2-2ec38ae1f80a",
   "metadata": {
    "editable": true,
    "slideshow": {
     "slide_type": "fragment"
    },
    "tags": []
   },
   "outputs": [],
   "source": [
    "# define data separately\n",
    "data = {\n",
    "    \"name\": \"bread&pizza_model2\",\n",
    "    \"max_hours\": 120,\n",
    "    \"max_kgs\": 50,\n",
    "    \"sales_limit\": 0,\n",
    "    \"coefficients\": {\n",
    "        'loafs': {'hours': 8.5, 'flour': 1.8, 'sales': -2.00, 'profit': 8},  \n",
    "        'trays': {'hours': 4, 'flour': 3, 'sales':  1.00, 'profit': 20},\n",
    "    },\n",
    "    \"products_init\": 0,\n",
    "    \"products_lb\": 0, \n",
    "    \"products_ub\": 100\n",
    "}"
   ]
  },
  {
   "cell_type": "code",
   "execution_count": 6,
   "id": "617243fb-a937-41b8-9391-d74e3fc599f0",
   "metadata": {
    "editable": true,
    "slideshow": {
     "slide_type": "subslide"
    },
    "tags": []
   },
   "outputs": [],
   "source": [
    "model2 = pyo.ConcreteModel(name=data['name'])\n",
    "\n",
    "# define scalar parameters\n",
    "model2.max_hours = pyo.Param(\n",
    "    within=pyo.NonNegativeReals, initialize=data['max_hours'])\n",
    "model2.max_kgs = pyo.Param(\n",
    "    within=pyo.NonNegativeReals, initialize=data['max_kgs'])\n",
    "model2.sales_limit = pyo.Param(\n",
    "    within=pyo.NonNegativeReals, initialize=data['sales_limit'])\n",
    "model2.products_init = pyo.Param(\n",
    "    within=pyo.NonNegativeReals, initialize=data['products_init'])\n",
    "model2.products_lb = pyo.Param(\n",
    "    within=pyo.NonNegativeReals, initialize=data['products_lb'])\n",
    "model2.products_ub = pyo.Param(\n",
    "    within=pyo.NonNegativeReals, initialize=data['products_ub'])"
   ]
  },
  {
   "cell_type": "code",
   "execution_count": 7,
   "id": "2132e91d-c8d1-4690-9c51-8f6895f9314c",
   "metadata": {
    "editable": true,
    "slideshow": {
     "slide_type": "subslide"
    },
    "tags": []
   },
   "outputs": [],
   "source": [
    "# define a Pyomo set to index products\n",
    "coefficients = data['coefficients']\n",
    "model2.products = pyo.Set(initialize=list(coefficients.keys()))\n",
    "\n",
    "# and additional parameters that are indexed by the set\n",
    "# mutable: allowed to change after initialization\n",
    "model2.hours = pyo.Param(\n",
    "    model2.products, within=pyo.NonNegativeReals, mutable=True)  \n",
    "model2.flour = pyo.Param(\n",
    "    model2.products, within=pyo.NonNegativeReals, mutable=True)\n",
    "model2.sales = pyo.Param(model2.products, within=pyo.Reals, mutable=True)\n",
    "model2.profit = pyo.Param(model2.products, within=pyo.Reals, mutable=True)\n",
    "\n",
    "for p in model2.products:    \n",
    "    model2.hours[p] = coefficients[p]['hours']\n",
    "    model2.flour[p] = coefficients[p]['flour']\n",
    "    model2.sales[p] = coefficients[p]['sales']\n",
    "    model2.profit[p] = coefficients[p]['profit']"
   ]
  },
  {
   "cell_type": "code",
   "execution_count": 8,
   "id": "dbfbc869-39f8-4fc8-804b-fb3431577baa",
   "metadata": {
    "editable": true,
    "slideshow": {
     "slide_type": "subslide"
    },
    "tags": []
   },
   "outputs": [],
   "source": [
    "# define variables, also indexed by the products Set\n",
    "model2.production = pyo.Var(\n",
    "    model2.products, domain=pyo.NonNegativeIntegers, \n",
    "    initialize=model2.products_init, \n",
    "    bounds=(model2.products_lb, model2.products_ub)\n",
    ")\n",
    "\n",
    "# define constraints\n",
    "model2.time_constraint = pyo.Constraint(\n",
    "    expr=sum(model2.hours[p] * model2.production[p] for p in model2.products) \n",
    "    <= model2.max_hours)\n",
    "model2.flour_constraint = pyo.Constraint(\n",
    "    expr=sum(model2.flour[p] * model2.production[p] for p in model2.products) \n",
    "    <= model2.max_kgs)\n",
    "model2.sales_constraint = pyo.Constraint(\n",
    "    expr=sum(model2.sales[p] * model2.production[p] for p in model2.products) \n",
    "    <= model2.sales_limit)\n",
    "\n",
    "# define objective\n",
    "model2.profit_obj = pyo.Objective(\n",
    "    expr=sum(model2.profit[p] * model2.production[p] for p in model2.products), \n",
    "    sense=pyo.maximize)"
   ]
  },
  {
   "cell_type": "markdown",
   "id": "a9cc4b65-8008-4fbc-a608-52775538202a",
   "metadata": {
    "editable": true,
    "slideshow": {
     "slide_type": "fragment"
    },
    "tags": []
   },
   "source": [
    "- A bit more flexible and compact (if we had them, defining constraints over indices would also be very easy)\n",
    "- Easier to modify"
   ]
  },
  {
   "cell_type": "code",
   "execution_count": 9,
   "id": "7ab432db-ee52-4ce2-bf46-aa4e1511fc11",
   "metadata": {
    "editable": true,
    "slideshow": {
     "slide_type": "subslide"
    },
    "tags": []
   },
   "outputs": [
    {
     "name": "stdout",
     "output_type": "stream",
     "text": [
      "bread&pizza_model2\n",
      "Status: TerminationCondition.optimal\n",
      "\n",
      "Total profit: 296.0€\n",
      "# loafs: 7.0\n",
      "# trays: 12.0\n"
     ]
    }
   ],
   "source": [
    "# solve\n",
    "opt = appsi.solvers.Highs()\n",
    "results = opt.solve(model2)\n",
    "\n",
    "# output some results\n",
    "print(f\"{model2.name}\")\n",
    "print(f\"Status: {results.termination_condition}\\n\")\n",
    "print(f\"Total profit: {np.round(model2.profit_obj(), 2)}€\")\n",
    "\n",
    "for p in coefficients.keys():\n",
    "    print(f\"# {p}: {model2.production.get_values()[p]}\")"
   ]
  },
  {
   "cell_type": "markdown",
   "id": "7d6b6764-eb06-4219-8590-a45786c676c0",
   "metadata": {
    "editable": true,
    "slideshow": {
     "slide_type": "slide"
    },
    "tags": []
   },
   "source": [
    "### Model 3 · Abstract model with rules"
   ]
  },
  {
   "cell_type": "code",
   "execution_count": 10,
   "id": "c948fcdc",
   "metadata": {
    "editable": true,
    "slideshow": {
     "slide_type": "fragment"
    },
    "tags": []
   },
   "outputs": [],
   "source": [
    "model3 = pyo.AbstractModel()\n",
    "\n",
    "# \"model first\" approach, so Set and Param use empty declarations\n",
    "model3.products = pyo.Set()\n",
    "\n",
    "model3.max_hours = pyo.Param(within=pyo.NonNegativeReals)\n",
    "model3.max_kgs = pyo.Param(within=pyo.NonNegativeReals)\n",
    "model3.sales_limit = pyo.Param(within=pyo.NonNegativeReals)\n",
    "model3.products_init = pyo.Param(within=pyo.NonNegativeReals)\n",
    "model3.products_lb = pyo.Param(within=pyo.NonNegativeReals)\n",
    "model3.products_ub = pyo.Param(within=pyo.NonNegativeReals)\n",
    "\n",
    "model3.hours = pyo.Param(model3.products, within=pyo.NonNegativeReals) \n",
    "model3.flour = pyo.Param(model3.products, within=pyo.NonNegativeReals)\n",
    "model3.sales = pyo.Param(model3.products, within=pyo.Reals)\n",
    "model3.profit = pyo.Param(model3.products, within=pyo.Reals)"
   ]
  },
  {
   "cell_type": "code",
   "execution_count": 11,
   "id": "3e601704-7ca2-423b-9539-b00d9ad4e2c3",
   "metadata": {
    "editable": true,
    "slideshow": {
     "slide_type": "fragment"
    },
    "tags": []
   },
   "outputs": [],
   "source": [
    "# define variables\n",
    "model3.production = pyo.Var(\n",
    "    model3.products, domain=pyo.NonNegativeIntegers, \n",
    "    initialize=model2.products_init, \n",
    "    bounds=(model2.products_lb, model2.products_ub)\n",
    ")"
   ]
  },
  {
   "cell_type": "markdown",
   "id": "62922969-f99c-451a-99fb-a9280e2bc19f",
   "metadata": {
    "editable": true,
    "slideshow": {
     "slide_type": "subslide"
    },
    "tags": []
   },
   "source": [
    "**Rules**: declare external functions to define expressions"
   ]
  },
  {
   "cell_type": "code",
   "execution_count": 12,
   "id": "cb892ff4",
   "metadata": {
    "editable": true,
    "slideshow": {
     "slide_type": "fragment"
    },
    "tags": []
   },
   "outputs": [],
   "source": [
    "# define rules for the constraints\n",
    "def time_constraint_rule(m):\n",
    "    # instead of looping over p in m.products\n",
    "    return pyo.summation(m.hours, m.production) <= m.max_hours\n",
    "\n",
    "def flour_constraint_rule(m):  # could take several dimensions\n",
    "    return pyo.summation(m.flour, m.production) <= m.max_kgs\n",
    "\n",
    "def sales_constraint_rule(m):\n",
    "    return pyo.summation(m.sales, m.production) <= m.sales_limit\n",
    "\n",
    "model3.time_constraint = pyo.Constraint(rule=time_constraint_rule)\n",
    "model3.flour_constraint = pyo.Constraint(rule=flour_constraint_rule)\n",
    "model3.sales_constraint = pyo.Constraint(rule=sales_constraint_rule)"
   ]
  },
  {
   "cell_type": "code",
   "execution_count": 13,
   "id": "9124f787-a8eb-42b5-8bc7-63f7f5ba3be1",
   "metadata": {
    "editable": true,
    "slideshow": {
     "slide_type": "fragment"
    },
    "tags": []
   },
   "outputs": [],
   "source": [
    "# rule for the objective\n",
    "def profit_obj_rule(m):\n",
    "    return pyo.summation(m.profit, m.production)\n",
    "\n",
    "model3.profit_obj = pyo.Objective(rule=profit_obj_rule, sense=pyo.maximize)"
   ]
  },
  {
   "cell_type": "markdown",
   "id": "14042ebf-cdbf-408a-a944-b28aeae8a245",
   "metadata": {
    "editable": true,
    "slideshow": {
     "slide_type": "fragment"
    },
    "tags": []
   },
   "source": [
    "- Rules can **include complex logics** on what is to be returned, allowing more control\n",
    "- They are the standard way to approach constraints and objective definition "
   ]
  },
  {
   "cell_type": "markdown",
   "id": "6ef7641e-48f8-4907-9644-a635921f80bf",
   "metadata": {
    "editable": true,
    "slideshow": {
     "slide_type": "subslide"
    },
    "tags": []
   },
   "source": [
    "**Data and instantiation**, just before solving the model\n",
    "\n",
    "(see [here](https://pyomo.readthedocs.io/en/stable/working_abstractmodels/data/raw_dicts.html) for structure)"
   ]
  },
  {
   "cell_type": "code",
   "execution_count": 14,
   "id": "20e91465-e85d-429f-9ea6-07165e833974",
   "metadata": {
    "editable": true,
    "slideshow": {
     "slide_type": "fragment"
    },
    "tags": []
   },
   "outputs": [],
   "source": [
    "# define data separately\n",
    "abstract_data = {None: {\n",
    "    \"products\": {None: ['loafs', 'trays']},\n",
    "    \"max_hours\": {None: 120},\n",
    "    \"max_kgs\": {None: 50},\n",
    "    \"sales_limit\": {None: 0},\n",
    "    \"hours\": {'loafs': 8.5, 'trays': 4},\n",
    "    \"flour\": {'loafs': 1.8, 'trays': 3},\n",
    "    \"sales\": {'loafs': -2.00, 'trays': 1.00},\n",
    "    \"profit\": {'loafs': 8, 'trays': 20},\n",
    "    \"products_init\": {None: 0},\n",
    "    \"products_lb\": {None: 0},\n",
    "    \"products_ub\": {None: 100}\n",
    "}}\n",
    "\n",
    "# load data into an instance\n",
    "instance = model3.create_instance(abstract_data)"
   ]
  },
  {
   "cell_type": "code",
   "execution_count": 15,
   "id": "04341662",
   "metadata": {
    "editable": true,
    "slideshow": {
     "slide_type": "subslide"
    },
    "tags": []
   },
   "outputs": [
    {
     "name": "stdout",
     "output_type": "stream",
     "text": [
      "Status: TerminationCondition.optimal\n",
      "\n",
      "Total profit: 296.0€\n",
      "# loafs: 7.0\n",
      "# trays: 12.0\n"
     ]
    }
   ],
   "source": [
    "# solve\n",
    "opt = appsi.solvers.Highs()\n",
    "results = opt.solve(instance)  \n",
    "# refer to the instance for solve and results extraction\n",
    "\n",
    "# output some results\n",
    "print(f\"Status: {results.termination_condition}\\n\")\n",
    "print(f\"Total profit: {np.round(instance.profit_obj(), 2)}€\")\n",
    "\n",
    "for p in instance.products:\n",
    "    print(f\"# {p}: {instance.production.extract_values()[p]}\")"
   ]
  },
  {
   "cell_type": "markdown",
   "id": "0327acb1-dd16-4a35-bc59-1436bed39d98",
   "metadata": {
    "editable": true,
    "slideshow": {
     "slide_type": "fragment"
    },
    "tags": []
   },
   "source": [
    "- An abstract model is not so different from a concrete model, after all: what you choose is a preference\n",
    "- **Rules** for constraints and objective are what allow complexity, flexibility and reusability"
   ]
  },
  {
   "cell_type": "markdown",
   "id": "4c7a4eaf-bcf9-4014-a854-193a50875e89",
   "metadata": {
    "editable": true,
    "slideshow": {
     "slide_type": "slide"
    },
    "tags": []
   },
   "source": [
    "## 6. What else can I do?\n",
    "\n",
    "- [Complex expressions](https://pyomo.readthedocs.io/en/stable/developer_reference/expressions/performance.html) and implementation of\n",
    "    - linear, quadratic and general nonlinear terms\n",
    "    - utility functions: `prod`, `quicksum`, `sum_product`\n",
    "- Handling of **different classes of optimization models**, including integer and nonlinear ones"
   ]
  },
  {
   "cell_type": "markdown",
   "id": "b00d833e-878f-4f33-ac91-01adb18d7dd2",
   "metadata": {
    "editable": true,
    "slideshow": {
     "slide_type": "fragment"
    },
    "tags": []
   },
   "source": [
    "In terms of optimization process:\n",
    "- Further inspection of results (slack, duals, values, ...) and model (can be saved to file)\n",
    "- Iterations in solution phase: add/remove constraints, change parameters, activate/disactivate objective components, ...\n",
    "- Set manipulations (especially useful for network problems)\n",
    "- Some solver parameters modification (depends on each solver interface)\n",
    "\n",
    "... and so much more! "
   ]
  },
  {
   "cell_type": "markdown",
   "id": "aa42949a-0ba6-4bdf-ad85-f278aae933ea",
   "metadata": {
    "editable": true,
    "slideshow": {
     "slide_type": "slide"
    },
    "tags": []
   },
   "source": [
    "## 7. Considerations from my short experience"
   ]
  },
  {
   "cell_type": "markdown",
   "id": "2ed2cf48-2694-48b1-b6b4-42115be02f3e",
   "metadata": {
    "editable": true,
    "slideshow": {
     "slide_type": "fragment"
    },
    "tags": []
   },
   "source": [
    "**Pros**\n",
    "- Different options to reflect different levels of development \\\n",
    "  _&#8594; how I progress when prototyping a model_\n",
    "- Tools that allow scalability and reusability \\\n",
    "  _&#8594; `AbstractModel` for clarity and reusability of components across different models_\n",
    "- Several [modeling extensions](https://pyomo.readthedocs.io/en/stable/modeling_extensions/index.html) available via other packages (e.g., for bilevel, disjunctive, stochastic optimization + graphs and blocks for network problems)\n",
    "- Multiple solvers options\n",
    "- Modular design which encourages extensions \\\n",
    "  _&#8594; active community since 2008_\n",
    "- Integration with all the rest of your Python workflow (e.g., for data processing, visualization, predictions models, ...)"
   ]
  },
  {
   "cell_type": "markdown",
   "id": "0a1769f7-8209-4ee2-b6bd-81334bbe8cf4",
   "metadata": {
    "editable": true,
    "slideshow": {
     "slide_type": "subslide"
    },
    "tags": []
   },
   "source": [
    "**Cons**\n",
    "- Documentation is not extensive \\\n",
    "  _&#8594; I often relied on StackOverflow and community posts to discover how to do things_\n",
    "- Slight overhead?\n",
    "- Debugging is not so easy (+ solver support is missing)\n",
    "- Not very clear best practices / standards"
   ]
  },
  {
   "cell_type": "markdown",
   "id": "cffd7b4d-21e4-4636-9c77-a4f6a6957142",
   "metadata": {
    "editable": true,
    "slideshow": {
     "slide_type": "slide"
    },
    "tags": []
   },
   "source": [
    "## Resources\n",
    "\n",
    "- [Pyomo documentiation](https://pyomo.readthedocs.io/en/stable/index.html#pyomo-documentation-release)\n",
    "- Slides from the [Pyomo workshop 2023](https://github.com/Pyomo/pyomo-tutorials/blob/main/Pyomo-Workshop-December-2023.pdf)\n",
    "- I've adapted the production mix model examples from this [tutorial](https://www.solvermax.com/blog/python-optimization-rosetta-stone), which is much more extensive and compares different Pyomo formulations with other ones (PuLP, OR Tools, SciPy, ...)"
   ]
  },
  {
   "cell_type": "markdown",
   "id": "f27cb546-e8c2-4ef9-a082-f46f7900ccb0",
   "metadata": {
    "editable": true,
    "slideshow": {
     "slide_type": "fragment"
    },
    "tags": []
   },
   "source": [
    "### _... I hope you'll try it!_\n",
    "\n",
    "### Questions?"
   ]
  }
 ],
 "metadata": {
  "celltoolbar": "Slideshow",
  "kernelspec": {
   "display_name": "ipy-pyomo-env",
   "language": "python",
   "name": "ipy-pyomo-env"
  },
  "language_info": {
   "codemirror_mode": {
    "name": "ipython",
    "version": 3
   },
   "file_extension": ".py",
   "mimetype": "text/x-python",
   "name": "python",
   "nbconvert_exporter": "python",
   "pygments_lexer": "ipython3",
   "version": "3.9.19"
  }
 },
 "nbformat": 4,
 "nbformat_minor": 5
}
